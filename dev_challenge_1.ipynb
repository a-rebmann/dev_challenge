{
 "cells": [
  {
   "cell_type": "code",
   "execution_count": 10,
   "id": "2339b357",
   "metadata": {},
   "outputs": [],
   "source": [
    "from random import shuffle as random\n",
    "\n",
    "def allocate_randomly(kitchen_tems, bathroom_items):\n",
    "    #Shuffle kitchen items and bathroom items\n",
    "    random(bathroom_items)\n",
    "    random(kitchen_tems)\n",
    "    \n",
    "    #Assign half of them their correct and half of them the incorrect location respectively\n",
    "    correct_bathroom=bathroom_items[:int(len(bathroom_items)/2)]\n",
    "    incorrect_bathroom=[item for item in bathroom_items if item not in correct_bathroom]\n",
    "    correct_kitchen=kitchen_tems[:int(len(kitchen_tems)/2)]\n",
    "    incorrect_kitchen=[item for item in kitchen_tems if item not in correct_kitchen]\n",
    "    \n",
    "    #Create one array of triples (item, location, correctness) based on the random assignment\n",
    "    triples = [(item, \"bathroom\", True) for item in correct_bathroom]\n",
    "    triples += [(item, \"kitchen\", False) for item in incorrect_bathroom]\n",
    "    triples += [(item, \"kitchen\", True) for item in correct_kitchen]\n",
    "    triples += [(item, \"bathroom\", False) for item in incorrect_kitchen]\n",
    "    \n",
    "    #Shuffle array of triples\n",
    "    random(triples)\n",
    "    \n",
    "    #Create three individual arrays, one for items, one for locations, and one for correctness\n",
    "    all_items = [triple[0] for triple in triples]\n",
    "    all_locations = [triple[1] for triple in triples]\n",
    "    all_correctnesses = [triple[2] for triple in triples]\n",
    "    return all_items, all_locations, all_correctnesses\n",
    "\n"
   ]
  },
  {
   "cell_type": "code",
   "execution_count": 11,
   "id": "1f555072",
   "metadata": {},
   "outputs": [
    {
     "data": {
      "text/plain": [
       "(['Table', 'Shampoo', 'Comb', 'Sink', 'Knife', 'Toothbrush'],\n",
       " ['bathroom', 'bathroom', 'bathroom', 'kitchen', 'kitchen', 'kitchen'],\n",
       " [False, True, True, False, True, False])"
      ]
     },
     "execution_count": 11,
     "metadata": {},
     "output_type": "execute_result"
    }
   ],
   "source": [
    "allocate_randomly([\"Table\", \"Knife\"], [\"Sink\", \"Toothbrush\", \"Comb\", \"Shampoo\"])"
   ]
  },
  {
   "cell_type": "code",
   "execution_count": null,
   "id": "9733b53e",
   "metadata": {},
   "outputs": [],
   "source": []
  }
 ],
 "metadata": {
  "kernelspec": {
   "display_name": "Python 3 (ipykernel)",
   "language": "python",
   "name": "python3"
  },
  "language_info": {
   "codemirror_mode": {
    "name": "ipython",
    "version": 3
   },
   "file_extension": ".py",
   "mimetype": "text/x-python",
   "name": "python",
   "nbconvert_exporter": "python",
   "pygments_lexer": "ipython3",
   "version": "3.9.13"
  }
 },
 "nbformat": 4,
 "nbformat_minor": 5
}
